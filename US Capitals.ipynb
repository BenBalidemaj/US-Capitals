{
 "cells": [
  {
   "cell_type": "code",
   "execution_count": 2,
   "metadata": {},
   "outputs": [
    {
     "name": "stdout",
     "output_type": "stream",
     "text": [
      "Washington\n",
      "Enter the capital: hs\n",
      "wrong the correct answer is Olympia\n",
      "[('Washington', 'Olympia')]\n"
     ]
    }
   ],
   "source": [
    "import random\n",
    "open_us=open('USStatesCapitals.txt','r')\n",
    "US={}\n",
    "for line in open_us:\n",
    "    isopen=line.split(',')\n",
    "    US[isopen[0]]=isopen[1].replace('\\n','')\n",
    "isrand=random.sample(US.items(),1)\n",
    "print(isrand[0][0])\n",
    "answer=input('Enter the capital: ')\n",
    "             \n",
    "if answer==isrand[0][1]:\n",
    "    print(\"correct\")\n",
    "else:\n",
    "    print(\"wrong the correct answer is\", isrand[0][1])    \n",
    "print(isrand)"
   ]
  },
  {
   "cell_type": "code",
   "execution_count": null,
   "metadata": {
    "collapsed": true
   },
   "outputs": [],
   "source": []
  }
 ],
 "metadata": {
  "kernelspec": {
   "display_name": "Python 3",
   "language": "python",
   "name": "python3"
  },
  "language_info": {
   "codemirror_mode": {
    "name": "ipython",
    "version": 3
   },
   "file_extension": ".py",
   "mimetype": "text/x-python",
   "name": "python",
   "nbconvert_exporter": "python",
   "pygments_lexer": "ipython3",
   "version": "3.6.1"
  }
 },
 "nbformat": 4,
 "nbformat_minor": 2
}
